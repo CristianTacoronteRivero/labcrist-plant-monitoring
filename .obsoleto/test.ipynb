{
 "cells": [
  {
   "cell_type": "code",
   "execution_count": 4,
   "metadata": {},
   "outputs": [
    {
     "name": "stdout",
     "output_type": "stream",
     "text": [
      "no ai\n"
     ]
    }
   ],
   "source": [
    "import ping3\n",
    "\n",
    "def check_device(hostname):\n",
    "    response = ping3.ping(hostname)\n",
    "\n",
    "    if response is not None:\n",
    "        print(\"si ai\")\n",
    "    else:\n",
    "        print(\"no ai\")\n",
    "\n",
    "check_device(\"192.1.168.23\")"
   ]
  },
  {
   "cell_type": "code",
   "execution_count": null,
   "metadata": {},
   "outputs": [],
   "source": []
  }
 ],
 "metadata": {
  "kernelspec": {
   "display_name": "Python 3",
   "language": "python",
   "name": "python3"
  },
  "language_info": {
   "codemirror_mode": {
    "name": "ipython",
    "version": 3
   },
   "file_extension": ".py",
   "mimetype": "text/x-python",
   "name": "python",
   "nbconvert_exporter": "python",
   "pygments_lexer": "ipython3",
   "version": "3.10.8"
  },
  "orig_nbformat": 4
 },
 "nbformat": 4,
 "nbformat_minor": 2
}
